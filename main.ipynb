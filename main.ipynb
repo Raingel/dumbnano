{
 "cells": [
  {
   "cell_type": "code",
   "execution_count": 13,
   "metadata": {},
   "outputs": [],
   "source": [
    "from nanoact import nanoact\n",
    "#Reload the module\n",
    "import importlib\n",
    "importlib.reload(nanoact)\n",
    "dumb = nanoact.NanoAct()"
   ]
  },
  {
   "cell_type": "code",
   "execution_count": 56,
   "metadata": {},
   "outputs": [
    {
     "name": "stdout",
     "output_type": "stream",
     "text": [
      "BARCODE_INDEX_FILE loaded\n",
      "646/2500 (25.84%) reads were demultiplexed successfully\n"
     ]
    },
    {
     "data": {
      "text/plain": [
       "'./data/2_singlebar/'"
      ]
     },
     "execution_count": 56,
     "metadata": {},
     "output_type": "execute_result"
    }
   ],
   "source": [
    "dumb.singlebar(src=\"./data/1_nanofilt/10000.fastq\",\n",
    "               des=\"./data/2_singlebar/\",\n",
    "               BARCODE_INDEX_FILE=\"./data/1_nanofilt/2023000003_barcode.tsv\", \n",
    "               mismatch_ratio_f = 0.15,\n",
    "               mismatch_ratio_r = 0.15, \n",
    "               expected_length_variation = 2, \n",
    "               search_range=150)"
   ]
  },
  {
   "cell_type": "code",
   "execution_count": null,
   "metadata": {},
   "outputs": [],
   "source": [
    "orientation = dumb.orientation(src='./data/2_singlebar/',\n",
    "                               des='./data/3_orientation/',\n",
    "                                input_format = \"fastq\",\n",
    "                                output_format = \"both\",\n",
    "                               BARCODE_INDEX_FILE=\"./data/1_nanofilt/2023000003_barcode.tsv\",\n",
    "                               search_region=200,\n",
    "                                FwPrimer = \"FwPrimer\",\n",
    "                                RvPrimer = \"RvPrimer\",\n",
    "                                )"
   ]
  },
  {
   "cell_type": "code",
   "execution_count": null,
   "metadata": {},
   "outputs": [],
   "source": [
    "dumb.trim_reads( \n",
    "                   src=\"./data/3_orientation/\", \n",
    "                   des=\"./data/4_trim_table/\",\n",
    "                   mode=\"table\",\n",
    "                   input_format=\"fastq\",\n",
    "                    output_format=\"both\",\n",
    "                    BARCODE_INDEX_FILE = \"./data/1_nanofilt/2023000003_barcode.tsv\",\n",
    "                    fw_col = \"FwPrimer\",rv_col = \"RvPrimer\",\n",
    "                    fw_offset = 0, rv_offset = 0,\n",
    "                    mismatch_ratio_f = 0.15,mismatch_ratio_r = 0.15,\n",
    "                    discard_no_match = False,\n",
    "                    check_both_directions = True,\n",
    "                    reverse_complement_rv = True,\n",
    "                     )"
   ]
  },
  {
   "cell_type": "code",
   "execution_count": 45,
   "metadata": {},
   "outputs": [
    {
     "name": "stdout",
     "output_type": "stream",
     "text": [
      "Clustering 2378.fastq\n",
      "Number of clusters 6\n",
      "Clustering 2379.fastq\n",
      "Number of clusters 4\n"
     ]
    },
    {
     "data": {
      "text/plain": [
       "'./data/6_mmseqs/'"
      ]
     },
     "execution_count": 45,
     "metadata": {},
     "output_type": "execute_result"
    }
   ],
   "source": [
    "dumb.mmseqs_cluster(   src=\"./data/5_selected_for_clust/\", \n",
    "                       des=\"./data/6_mmseqs/\",\n",
    "                       mmseqs=\"/nanoact/bin/mmseqs\", \n",
    "                       input_format = \"fastq\",\n",
    "                       output_format = \"both\",\n",
    "                       min_seq_id=0.5, cov_mode=0, k=14, \n",
    "                       threads=8, s=7.5, \n",
    "                       cluster_mode='linclust', min_read_num = 0,\n",
    "                       suppress_out=True)"
   ]
  },
  {
   "cell_type": "code",
   "execution_count": 63,
   "metadata": {},
   "outputs": [
    {
     "name": "stdout",
     "output_type": "stream",
     "text": [
      "Clustering 2378.fastq\n",
      "Clustering 2379.fastq\n"
     ]
    }
   ],
   "source": [
    "dumb.vsearch_OTUs(src=\"./data/5_selected_for_clust/\", \n",
    "                    des=\"./data/6_vsearch/\",\n",
    "                     input_format = \"fastq\",\n",
    "                     output_format = \"both\",\n",
    "                     vsearch=\"/nanoact/bin/vsearch\", \n",
    "                     id=0.9)"
   ]
  },
  {
   "cell_type": "code",
   "execution_count": 9,
   "metadata": {},
   "outputs": [
    {
     "name": "stdout",
     "output_type": "stream",
     "text": [
      "Clustering 2378.fastq\n",
      "Clustering 2379.fastq\n"
     ]
    }
   ],
   "source": [
    "dumb.cd_hit_est(src=\"./data/5_selected_for_clust/\", \n",
    "                    des=\"./data/6_cd_hit/\", \n",
    "                   input_format = \"fastq\",\n",
    "                   output_format = \"both\",                   \n",
    "                   cd_hit_est=\"./nanoact/bin/cd-hit-est\", \n",
    "                   id=0.8, n=5)"
   ]
  },
  {
   "cell_type": "code",
   "execution_count": 14,
   "metadata": {},
   "outputs": [
    {
     "name": "stdout",
     "output_type": "stream",
     "text": [
      "Clustering 2378.fastq\n",
      "Number of records: 17\n",
      "abs_cluster_size:  2\n",
      "Number of clusters: 3\n",
      "Clustering 2379.fastq\n",
      "Number of records: 7\n",
      "abs_cluster_size:  2\n",
      "Number of clusters: 1\n"
     ]
    }
   ],
   "source": [
    "dumb.hdbscan( \n",
    "              src=\"./data/5_selected_for_clust/\", \n",
    "                    des=\"./data/6_hdbscan/\", \n",
    "                input_format = \"fastq\",\n",
    "                output_format = \"both\",\n",
    "                min_cluster_size = 0.1, mds = True)"
   ]
  },
  {
   "cell_type": "code",
   "execution_count": 26,
   "metadata": {},
   "outputs": [
    {
     "data": {
      "text/plain": [
       "'TTT'"
      ]
     },
     "execution_count": 26,
     "metadata": {},
     "output_type": "execute_result"
    }
   ],
   "source": [
    "t = (3,-3)\n",
    "\"AAATTTCCC\"[t[0]:t[1]]"
   ]
  },
  {
   "cell_type": "code",
   "execution_count": null,
   "metadata": {},
   "outputs": [],
   "source": []
  }
 ],
 "metadata": {
  "kernelspec": {
   "display_name": ".venv",
   "language": "python",
   "name": "python3"
  },
  "language_info": {
   "codemirror_mode": {
    "name": "ipython",
    "version": 3
   },
   "file_extension": ".py",
   "mimetype": "text/x-python",
   "name": "python",
   "nbconvert_exporter": "python",
   "pygments_lexer": "ipython3",
   "version": "3.10.6"
  },
  "orig_nbformat": 4
 },
 "nbformat": 4,
 "nbformat_minor": 2
}
