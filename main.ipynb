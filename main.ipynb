{
 "cells": [
  {
   "cell_type": "code",
   "execution_count": 29,
   "metadata": {},
   "outputs": [],
   "source": [
    "from nanoact import nanoact\n",
    "#Reload the module\n",
    "import importlib\n",
    "importlib.reload(nanoact)\n",
    "dumb = nanoact.NanoAct()"
   ]
  },
  {
   "cell_type": "code",
   "execution_count": 30,
   "metadata": {},
   "outputs": [
    {
     "name": "stdout",
     "output_type": "stream",
     "text": [
      "Blasting 0 to 5 of 2\n",
      "Query 53WF2WZM016 submitted.\n",
      "You can check the status at https://blast.ncbi.nlm.nih.gov/blast/Blast.cgi?CMD=Get&FORMAT_OBJECT=SearchInfo&RID=53WF2WZM016\n",
      "And results here: https://blast.ncbi.nlm.nih.gov/blast/Blast.cgi?CMD=Get&RID=53WF2WZM016\n",
      "Search complete, retrieving results...\n",
      "{'2190_cluster_-1_r2.fas': {'acc': 'MT645098', 'hit_seq': 'TTTTCATTTGAAAAAGCTACAACCCGTTTTTTTCTTTGGAAACAAACGGGTGTGGGGCCTTTTAGGTCTCGCAATTCAATATACTTTATGAAATTCTTGATTGATTCTTAATTGAAACAAAAAACAACTTTCAACAATGGATCTCTCGGCTTACGCATCGATGAAGAACGCAGCGAATCGCGATATGTAATGTGATCTGCATTTAGTGAATCATCGAATCTTTGAACGCATCTTGCGCCCAAGGGTAATC', 'hit_def': 'Absidia sp. (in: Fungi) isolate T48 small subunit ribosomal RNA gene, partial sequence; internal transcribed spacer 1 and 5.8S ribosomal RNA gene, complete sequence; and internal transcribed spacer 2, partial sequence', 'similarity': 0.98, 'org': 'Absidia sp. (in: fungi)', 'taxa': 'Eukaryota; Fungi; Fungi incertae sedis; Mucoromycota; Mucoromycotina; Mucoromycetes; Mucorales; Cunninghamellaceae; Absidia', 'taxid': '1982014', 'kingdom': 'Fungi', 'phylum': 'Mucoromycota', 'class': 'Mucoromycetes', 'order': 'Mucorales', 'family': 'Cunninghamellaceae', 'genus': 'Absidia'}, '2191_cluster_-1_r8.fas': {'acc': 'MH990634', 'hit_seq': 'AAGTCATCAGCTTGCGTTGATTACGTCCCTGCCCTTTGTACACACCGCCCGTCGCTACTACCGATTGAATGGTCATAGTGAGCATGTGGGATTGACGTCGTCACAGCGGCAACGCTGAGATGATGTTGAGAACTATGGCAAACTAGGCTATTTAGAGGAAGTAAAAGTCGTAACAAGGTTTCCGTAGGTGAACCTGCGGAAGGATCATTATCAATGCAAAGTTTCTCCAATGAATTTTGGGGTTTCTTTG', 'hit_def': 'Gongronella butleri isolate C1D 18S ribosomal RNA gene, partial sequence; internal transcribed spacer 1, 5.8S ribosomal RNA gene, and internal transcribed spacer 2, complete sequence; and 28S ribosomal RNA gene, partial sequence', 'similarity': 1.0, 'org': 'Gongronella butleri', 'taxa': 'Eukaryota; Fungi; Fungi incertae sedis; Mucoromycota; Mucoromycotina; Mucoromycetes; Mucorales; Cunninghamellaceae; Gongronella', 'taxid': '101105', 'kingdom': 'Fungi', 'phylum': 'Mucoromycota', 'class': 'Mucoromycetes', 'order': 'Mucorales', 'family': 'Cunninghamellaceae', 'genus': 'Gongronella'}}\n"
     ]
    },
    {
     "data": {
      "text/plain": [
       "'./data/assemble//blast.csv'"
      ]
     },
     "execution_count": 30,
     "metadata": {},
     "output_type": "execute_result"
    }
   ],
   "source": [
    "dumb.blast_2(src = \"./data/assemble/\",\n",
    "            des=\"./data/assemble/\",\n",
    "            max_query_length = 100,\n",
    "            )"
   ]
  },
  {
   "cell_type": "code",
   "execution_count": 23,
   "metadata": {},
   "outputs": [
    {
     "name": "stdout",
     "output_type": "stream",
     "text": [
      "Query 53VUB4MA013 submitted.\n",
      "You can check the status at https://blast.ncbi.nlm.nih.gov/blast/Blast.cgi?CMD=Get&FORMAT_OBJECT=SearchInfo&RID=53VUB4MA013\n",
      "And results here: https://blast.ncbi.nlm.nih.gov/blast/Blast.cgi?CMD=Get&RID=53VUB4MA013\n",
      "Search complete, retrieving results...\n"
     ]
    },
    {
     "data": {
      "text/plain": [
       "{'a': {'acc': 'KT386629',\n",
       "  'hit_seq': 'TTGTCTCAAAGATTAAGCCATGCATGTCTAAGTATAAGCAATTATACCGCGAAACTGCGAATGGCTCATTATATAAGTTATCGTTTATTTGATAGCACATTACTACATGGATAACTGTGG',\n",
       "  'hit_def': 'Uncultured eukaryote clone OTU_278 18S ribosomal RNA gene, partial sequence',\n",
       "  'similarity': 0.94,\n",
       "  'org': 'uncultured eukaryote',\n",
       "  'taxa': 'Eukaryota; environmental samples',\n",
       "  'taxid': '100272',\n",
       "  'kingdom': 'incertae sedis',\n",
       "  'phylum': 'incertae sedis',\n",
       "  'class': 'incertae sedis',\n",
       "  'order': 'incertae sedis',\n",
       "  'family': 'incertae sedis',\n",
       "  'genus': 'incertae sedis'},\n",
       " 'b': {'acc': 'MT214951',\n",
       "  'hit_seq': 'TAATACATGCTAAAAATCCCGACTTCGGAAGGGATGCATTTATTGGATACAGAACCAACGCCCTTCGGGGCTTCCTGGTGA',\n",
       "  'hit_def': 'Dinemasporium pseudodecipiens voucher MFLU:15-3635 small subunit ribosomal RNA gene, partial sequence',\n",
       "  'similarity': 0.88,\n",
       "  'org': 'Dinemasporium pseudodecipiens',\n",
       "  'taxa': 'Eukaryota; Fungi; Dikarya; Ascomycota; Pezizomycotina; Sordariomycetes; Sordariomycetidae; Chaetosphaeriales; Chaetosphaeriaceae; Dinemasporium',\n",
       "  'taxid': '1635164',\n",
       "  'kingdom': 'Fungi',\n",
       "  'phylum': 'Ascomycota',\n",
       "  'class': 'Sordariomycetes',\n",
       "  'order': 'Chaetosphaeriales',\n",
       "  'family': 'Chaetosphaeriaceae',\n",
       "  'genus': 'Dinemasporium'}}"
      ]
     },
     "execution_count": 23,
     "metadata": {},
     "output_type": "execute_result"
    }
   ],
   "source": [
    "dumb.NCBIblast()"
   ]
  },
  {
   "cell_type": "code",
   "execution_count": null,
   "metadata": {},
   "outputs": [],
   "source": []
  }
 ],
 "metadata": {
  "kernelspec": {
   "display_name": ".venv",
   "language": "python",
   "name": "python3"
  },
  "language_info": {
   "codemirror_mode": {
    "name": "ipython",
    "version": 3
   },
   "file_extension": ".py",
   "mimetype": "text/x-python",
   "name": "python",
   "nbconvert_exporter": "python",
   "pygments_lexer": "ipython3",
   "version": "3.10.6"
  },
  "orig_nbformat": 4
 },
 "nbformat": 4,
 "nbformat_minor": 2
}
