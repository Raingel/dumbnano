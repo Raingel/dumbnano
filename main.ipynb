{
 "cells": [
  {
   "cell_type": "code",
   "execution_count": 10,
   "metadata": {},
   "outputs": [
    {
     "data": {
      "text/plain": [
       "<module 'dumbnano.dumbnano' from '/home/raingel/桌面/OOP_v2/dumbnano/dumbnano.py'>"
      ]
     },
     "execution_count": 10,
     "metadata": {},
     "output_type": "execute_result"
    }
   ],
   "source": [
    "from dumbnano import dumbnano\n",
    "#Reload the module\n",
    "import importlib\n",
    "importlib.reload(dumbnano)"
   ]
  },
  {
   "cell_type": "code",
   "execution_count": 11,
   "metadata": {},
   "outputs": [],
   "source": [
    "dumb = dumbnano.NanoAmpliParser()"
   ]
  },
  {
   "cell_type": "code",
   "execution_count": 3,
   "metadata": {},
   "outputs": [
    {
     "data": {
      "text/plain": [
       "'/home/raingel/桌面/OOP_v2/data/5_assemble'"
      ]
     },
     "execution_count": 3,
     "metadata": {},
     "output_type": "execute_result"
    }
   ],
   "source": [
    "dumb.mafft_consensus(\"./data/Cluster_tmp/\", \"./data/5_assemble/\")"
   ]
  },
  {
   "cell_type": "code",
   "execution_count": 5,
   "metadata": {},
   "outputs": [
    {
     "name": "stderr",
     "output_type": "stream",
     "text": [
      "Cannot fit databases into 4G. Please use a computer with more main memory.\n"
     ]
    },
    {
     "data": {
      "text/plain": [
       "(\"Create directory tmp\\neasy-cluster ./2110.fas 2110cluster tmp --min-seq-id 0.5 -c 0.8 --cov-mode 1 \\n\\nMMseqs Version:                     \\t7e2840992948ee89dcc336522dc98a74fe0adf00\\nSubstitution matrix                 \\taa:blosum62.out,nucl:nucleotide.out\\nSeed substitution matrix            \\taa:VTML80.out,nucl:nucleotide.out\\nSensitivity                         \\t4\\nk-mer length                        \\t0\\nk-score                             \\tseq:2147483647,prof:2147483647\\nAlphabet size                       \\taa:21,nucl:5\\nMax sequence length                 \\t65535\\nMax results per query               \\t20\\nSplit database                      \\t0\\nSplit mode                          \\t2\\nSplit memory limit                  \\t0\\nCoverage threshold                  \\t0.8\\nCoverage mode                       \\t1\\nCompositional bias                  \\t1\\nCompositional bias                  \\t1\\nDiagonal scoring                    \\ttrue\\nExact k-mer matching                \\t0\\nMask residues                       \\t1\\nMask residues probability           \\t0.9\\nMask lower case residues            \\t0\\nMinimum diagonal score              \\t15\\nSelected taxa                       \\t\\nInclude identical seq. id.          \\tfalse\\nSpaced k-mers                       \\t1\\nPreload mode                        \\t0\\nPseudo count a                      \\tsubstitution:1.100,context:1.400\\nPseudo count b                      \\tsubstitution:4.100,context:5.800\\nSpaced k-mer pattern                \\t\\nLocal temporary path                \\t\\nThreads                             \\t2\\nCompressed                          \\t0\\nVerbosity                           \\t3\\nAdd backtrace                       \\tfalse\\nAlignment mode                      \\t3\\nAlignment mode                      \\t0\\nAllow wrapped scoring               \\tfalse\\nE-value threshold                   \\t0.001\\nSeq. id. threshold                  \\t0.5\\nMin alignment length                \\t0\\nSeq. id. mode                       \\t0\\nAlternative alignments              \\t0\\nMax reject                          \\t2147483647\\nMax accept                          \\t2147483647\\nScore bias                          \\t0\\nRealign hits                        \\tfalse\\nRealign score bias                  \\t-0.2\\nRealign max seqs                    \\t2147483647\\nCorrelation score weight            \\t0\\nGap open cost                       \\taa:11,nucl:5\\nGap extension cost                  \\taa:1,nucl:2\\nZdrop                               \\t40\\nRescore mode                        \\t0\\nRemove hits by seq. id. and coverage\\tfalse\\nSort results                        \\t0\\nCluster mode                        \\t0\\nMax connected component depth       \\t1000\\nSimilarity type                     \\t2\\nSingle step clustering              \\tfalse\\nCascaded clustering steps           \\t3\\nCluster reassign                    \\tfalse\\nRemove temporary files              \\ttrue\\nForce restart with latest tmp       \\tfalse\\nMPI runner                          \\t\\nk-mers per sequence                 \\t21\\nScale k-mers per sequence           \\taa:0.000,nucl:0.200\\nAdjust k-mer length                 \\tfalse\\nShift hash                          \\t67\\nInclude only extendable             \\tfalse\\nSkip repeating k-mers               \\tfalse\\nDatabase type                       \\t0\\nShuffle input database              \\ttrue\\nCreatedb mode                       \\t1\\nWrite lookup file                   \\t0\\nOffset of numeric ids               \\t0\\n\\ncreatedb ./2110.fas tmp/8448404121857333219/input --dbtype 0 --shuffle 1 --createdb-mode 1 --write-lookup 0 --id-offset 0 --compressed 0 -v 3 \\n\\nShuffle database cannot be combined with --createdb-mode 0\\nWe recompute with --shuffle 0\\nConverting sequences\\n[\\nTime for merging to input_h: 0h 0m 0s 0ms\\nTime for merging to input: 0h 0m 0s 0ms\\nDatabase type: Nucleotide\\nTime for processing: 0h 0m 0s 29ms\\nCreate directory tmp/8448404121857333219/clu_tmp\\ncluster tmp/8448404121857333219/input tmp/8448404121857333219/clu tmp/8448404121857333219/clu_tmp --max-seqs 20 -c 0.8 --cov-mode 1 --spaced-kmer-mode 1 --alignment-mode 3 -e 0.001 --min-seq-id 0.5 --remove-tmp-files 1 \\n\\nSet cluster sensitivity to -s 3.000000\\nSet cluster mode GREEDY MEM\\nSet cluster iterations to 3\\nlinclust tmp/8448404121857333219/input tmp/8448404121857333219/clu_tmp/8787184448570875934/clu_redundancy tmp/8448404121857333219/clu_tmp/8787184448570875934/linclust --cluster-mode 3 --max-iterations 1000 --similarity-type 2 --threads 2 --compressed 0 -v 3 --sub-mat 'aa:blosum62.out,nucl:nucleotide.out' -a 0 --alignment-mode 3 --alignment-output-mode 0 --wrapped-scoring 0 -e 0.001 --min-seq-id 0.5 --min-aln-len 0 --seq-id-mode 0 --alt-ali 0 -c 0.8 --cov-mode 1 --max-seq-len 10000 --comp-bias-corr 1 --comp-bias-corr-scale 1 --max-rejected 2147483647 --max-accept 2147483647 --add-self-matches 0 --db-load-mode 0 --pca substitution:1.100,context:1.400 --pcb substitution:4.100,context:5.800 --score-bias 0 --realign 0 --realign-score-bias -0.2 --realign-max-seqs 2147483647 --corr-score-weight 0 --gap-open aa:11,nucl:5 --gap-extend aa:1,nucl:2 --zdrop 40 --alph-size aa:21,nucl:5 --kmer-per-seq 21 --spaced-kmer-mode 1 --kmer-per-seq-scale aa:0.000,nucl:0.200 --adjust-kmer-len 0 --mask 1 --mask-prob 0.9 --mask-lower-case 0 -k 0 --hash-shift 67 --split-memory-limit 0 --include-only-extendable 0 --ignore-multi-kmer 0 --rescore-mode 0 --filter-hits 0 --sort-results 0 --remove-tmp-files 1 --force-reuse 0 \\n\\nkmermatcher tmp/8448404121857333219/input tmp/8448404121857333219/clu_tmp/8787184448570875934/linclust/11743036769668087349/pref --sub-mat 'aa:blosum62.out,nucl:nucleotide.out' --alph-size aa:21,nucl:5 --min-seq-id 0.5 --kmer-per-seq 21 --spaced-kmer-mode 1 --kmer-per-seq-scale aa:0.000,nucl:0.200 --adjust-kmer-len 0 --mask 1 --mask-prob 0.9 --mask-lower-case 0 --cov-mode 1 -k 0 -c 0.8 --max-seq-len 10000 --hash-shift 67 --split-memory-limit 0 --include-only-extendable 0 --ignore-multi-kmer 0 --threads 2 --compressed 0 -v 3 \\n\\nkmermatcher tmp/8448404121857333219/input tmp/8448404121857333219/clu_tmp/8787184448570875934/linclust/11743036769668087349/pref --sub-mat 'aa:blosum62.out,nucl:nucleotide.out' --alph-size aa:21,nucl:5 --min-seq-id 0.5 --kmer-per-seq 21 --spaced-kmer-mode 1 --kmer-per-seq-scale aa:0.000,nucl:0.200 --adjust-kmer-len 0 --mask 1 --mask-prob 0.9 --mask-lower-case 0 --cov-mode 1 -k 0 -c 0.8 --max-seq-len 10000 --hash-shift 67 --split-memory-limit 0 --include-only-extendable 0 --ignore-multi-kmer 0 --threads 2 --compressed 0 -v 3 \\n\\nDatabase size: 4103 type: Nucleotide\\n\\nGenerate k-mers list for 1 split\\n[=================================================================] 4.10K 0s 365ms\\n\\nAdjusted k-mer length 17\\nSort kmer 0h 0m 0s 98ms\\nSort by rep. sequence 0h 0m 0s 54ms\\nTime for fill: 0h 0m 0s 11ms\\nTime for merging to pref: 0h 0m 0s 0ms\\nTime for processing: 0h 0m 0s 596ms\\nrescorediagonal tmp/8448404121857333219/input tmp/8448404121857333219/input tmp/8448404121857333219/clu_tmp/8787184448570875934/linclust/11743036769668087349/pref tmp/8448404121857333219/clu_tmp/8787184448570875934/linclust/11743036769668087349/pref_rescore1 --sub-mat 'aa:blosum62.out,nucl:nucleotide.out' --rescore-mode 0 --wrapped-scoring 0 --filter-hits 0 -e 0.001 -c 0.8 -a 0 --cov-mode 1 --min-seq-id 0.5 --min-aln-len 0 --seq-id-mode 0 --add-self-matches 0 --sort-results 0 --db-load-mode 0 --threads 2 --compressed 0 -v 3 \\n\\n[=================================================================] 4.10K 0s 33ms\\nTime for merging to pref_rescore1: 0h 0m 0s 0ms\\nTime for processing: 0h 0m 0s 46ms\\nclust tmp/8448404121857333219/input tmp/8448404121857333219/clu_tmp/8787184448570875934/linclust/11743036769668087349/pref_rescore1 tmp/8448404121857333219/clu_tmp/8787184448570875934/linclust/11743036769668087349/pre_clust --cluster-mode 3 --max-iterations 1000 --similarity-type 2 --threads 2 --compressed 0 -v 3 \\n\\nClustering mode: Greedy Low Mem\\nTotal time: 0h 0m 0s 12ms\\n\\nSize of the sequence database: 4103\\nSize of the alignment database: 4103\\nNumber of clusters: 998\\n\\nWriting results 0h 0m 0s 0ms\\nTime for merging to pre_clust: 0h 0m 0s 0ms\\nTime for processing: 0h 0m 0s 14ms\\ncreatesubdb tmp/8448404121857333219/clu_tmp/8787184448570875934/linclust/11743036769668087349/order_redundancy tmp/8448404121857333219/input tmp/8448404121857333219/clu_tmp/8787184448570875934/linclust/11743036769668087349/input_step_redundancy -v 3 --subdb-mode 1 \\n\\nTime for merging to input_step_redundancy: 0h 0m 0s 0ms\\nTime for processing: 0h 0m 0s 1ms\\ncreatesubdb tmp/8448404121857333219/clu_tmp/8787184448570875934/linclust/11743036769668087349/order_redundancy tmp/8448404121857333219/clu_tmp/8787184448570875934/linclust/11743036769668087349/pref tmp/8448404121857333219/clu_tmp/8787184448570875934/linclust/11743036769668087349/pref_filter1 -v 3 --subdb-mode 1 \\n\\nTime for merging to pref_filter1: 0h 0m 0s 0ms\\nTime for processing: 0h 0m 0s 26ms\\nfilterdb tmp/8448404121857333219/clu_tmp/8787184448570875934/linclust/11743036769668087349/pref_filter1 tmp/8448404121857333219/clu_tmp/8787184448570875934/linclust/11743036769668087349/pref_filter2 --filter-file tmp/8448404121857333219/clu_tmp/8787184448570875934/linclust/11743036769668087349/order_redundancy --threads 2 --compressed 0 -v 3 \\n\\nFiltering using file(s)\\n[=================================================================] 998 0s 19ms\\nTime for merging to pref_filter2: 0h 0m 0s 0ms\\nTime for processing: 0h 0m 0s 30ms\\nalign tmp/8448404121857333219/clu_tmp/8787184448570875934/linclust/11743036769668087349/input_step_redundancy tmp/8448404121857333219/clu_tmp/8787184448570875934/linclust/11743036769668087349/input_step_redundancy tmp/8448404121857333219/clu_tmp/8787184448570875934/linclust/11743036769668087349/pref_filter2 tmp/8448404121857333219/clu_tmp/8787184448570875934/linclust/11743036769668087349/aln --sub-mat 'aa:blosum62.out,nucl:nucleotide.out' -a 0 --alignment-mode 3 --alignment-output-mode 0 --wrapped-scoring 0 -e 0.001 --min-seq-id 0.5 --min-aln-len 0 --seq-id-mode 0 --alt-ali 0 -c 0.8 --cov-mode 1 --max-seq-len 10000 --comp-bias-corr 1 --comp-bias-corr-scale 1 --max-rejected 2147483647 --max-accept 2147483647 --add-self-matches 0 --db-load-mode 0 --pca substitution:1.100,context:1.400 --pcb substitution:4.100,context:5.800 --score-bias 0 --realign 0 --realign-score-bias -0.2 --realign-max-seqs 2147483647 --corr-score-weight 0 --gap-open aa:11,nucl:5 --gap-extend aa:1,nucl:2 --zdrop 40 --threads 2 --compressed 0 -v 3 \\n\\nCompute score, coverage and sequence identity\\nQuery database size: 998 type: Nucleotide\\nTarget database size: 998 type: Nucleotide\\nCalculation of alignments\\n[=================================================================] 998 3s 83ms\\nTime for merging to aln: 0h 0m 0s 95ms\\n19117 alignments calculated\\n14857 sequence pairs passed the thresholds (0.777162 of overall calculated)\\n14.886773 hits per query sequence\\nTime for processing: 0h 0m 3s 244ms\\nclust tmp/8448404121857333219/clu_tmp/8787184448570875934/linclust/11743036769668087349/input_step_redundancy tmp/8448404121857333219/clu_tmp/8787184448570875934/linclust/11743036769668087349/aln tmp/8448404121857333219/clu_tmp/8787184448570875934/linclust/11743036769668087349/clust --cluster-mode 3 --max-iterations 1000 --similarity-type 2 --threads 2 --compressed 0 -v 3 \\n\\nClustering mode: Greedy Low Mem\\nTotal time: 0h 0m 0s 50ms\\n\\nSize of the sequence database: 998\\nSize of the alignment database: 998\\nNumber of clusters: 61\\n\\nWriting results 0h 0m 0s 0ms\\nTime for merging to clust: 0h 0m 0s 0ms\\nTime for processing: 0h 0m 0s 51ms\\nmergeclusters tmp/8448404121857333219/input tmp/8448404121857333219/clu_tmp/8787184448570875934/clu_redundancy tmp/8448404121857333219/clu_tmp/8787184448570875934/linclust/11743036769668087349/pre_clust tmp/8448404121857333219/clu_tmp/8787184448570875934/linclust/11743036769668087349/clust --threads 2 --compressed 0 -v 3 \\n\\nClustering step 1\\n[=================================================================] 998 0s 29ms\\nClustering step 2\\n[=================================================================] 61 0s 29ms\\nWrite merged clustering\\n[=================================================================] 4.10K 0s 39ms\\nTime for merging to clu_redundancy: 0h 0m 0s 0ms\\nTime for processing: 0h 0m 0s 43ms\\nrmdb tmp/8448404121857333219/clu_tmp/8787184448570875934/linclust/11743036769668087349/pref_filter1 -v 3 \\n\\nTime for processing: 0h 0m 0s 0ms\\nrmdb tmp/8448404121857333219/clu_tmp/8787184448570875934/linclust/11743036769668087349/pref -v 3 \\n\\nTime for processing: 0h 0m 0s 0ms\\nrmdb tmp/8448404121857333219/clu_tmp/8787184448570875934/linclust/11743036769668087349/pref_rescore1 -v 3 \\n\\nTime for processing: 0h 0m 0s 0ms\\nrmdb tmp/8448404121857333219/clu_tmp/8787184448570875934/linclust/11743036769668087349/pre_clust -v 3 \\n\\nTime for processing: 0h 0m 0s 0ms\\nrmdb tmp/8448404121857333219/clu_tmp/8787184448570875934/linclust/11743036769668087349/input_step_redundancy -v 3 \\n\\nTime for processing: 0h 0m 0s 0ms\\nrmdb tmp/8448404121857333219/clu_tmp/8787184448570875934/linclust/11743036769668087349/input_step_redundancy_h -v 3 \\n\\nTime for processing: 0h 0m 0s 0ms\\nrmdb tmp/8448404121857333219/clu_tmp/8787184448570875934/linclust/11743036769668087349/pref_filter2 -v 3 \\n\\nTime for processing: 0h 0m 0s 0ms\\nrmdb tmp/8448404121857333219/clu_tmp/8787184448570875934/linclust/11743036769668087349/aln -v 3 \\n\\nTime for processing: 0h 0m 0s 3ms\\nrmdb tmp/8448404121857333219/clu_tmp/8787184448570875934/linclust/11743036769668087349/clust -v 3 \\n\\nTime for processing: 0h 0m 0s 0ms\\ncreatesubdb tmp/8448404121857333219/clu_tmp/8787184448570875934/clu_redundancy tmp/8448404121857333219/input tmp/8448404121857333219/clu_tmp/8787184448570875934/input_step_redundancy -v 3 --subdb-mode 1 \\n\\nTime for merging to input_step_redundancy: 0h 0m 0s 0ms\\nTime for processing: 0h 0m 0s 1ms\\nextractframes tmp/8448404121857333219/clu_tmp/8787184448570875934/input_step_redundancy tmp/8448404121857333219/clu_tmp/8787184448570875934/query_seqs --forward-frames 1 --reverse-frames 1 --create-lookup 0 --threads 2 --compressed 0 -v 3 \\n\\n[=================================================================] 61 0s 17ms\\nTime for merging to query_seqs_h: 0h 0m 0s 1ms\\nTime for merging to query_seqs: 0h 0m 0s 0ms\\nTime for processing: 0h 0m 0s 23ms\\nprefilter tmp/8448404121857333219/clu_tmp/8787184448570875934/query_seqs tmp/8448404121857333219/clu_tmp/8787184448570875934/input_step_redundancy tmp/8448404121857333219/clu_tmp/8787184448570875934/pref --sub-mat 'aa:blosum62.out,nucl:nucleotide.out' --seed-sub-mat 'aa:VTML80.out,nucl:nucleotide.out' -s 3 -k 15 --k-score seq:2147483647,prof:2147483647 --alph-size aa:21,nucl:5 --max-seq-len 10000 --max-seqs 20 --split 0 --split-mode 2 --split-memory-limit 0 -c 0.8 --cov-mode 1 --comp-bias-corr 1 --comp-bias-corr-scale 1 --diag-score 0 --exact-kmer-matching 1 --mask 1 --mask-prob 0.9 --mask-lower-case 0 --min-ungapped-score 15 --add-self-matches 0 --spaced-kmer-mode 1 --db-load-mode 0 --pca substitution:1.100,context:1.400 --pcb substitution:4.100,context:5.800 --threads 2 --compressed 0 -v 3 \\n\\nQuery database size: 122 type: Nucleotide\\nError: Prefilter step died\\nError: Search died\\n\",\n",
       " None)"
      ]
     },
     "execution_count": 5,
     "metadata": {},
     "output_type": "execute_result"
    }
   ],
   "source": [
    "dumb._exec(\"./dumbnano/bin/mmseqs easy-cluster ./2110.fas 2110cluster tmp --min-seq-id 0.5 -c 0.8 --cov-mode 1\")"
   ]
  },
  {
   "cell_type": "code",
   "execution_count": 31,
   "metadata": {},
   "outputs": [],
   "source": [
    "import pandas as pd\n",
    "import os\n",
    "import edlib\n",
    "df = pd.read_csv(\"./2023000003_barcode.tsv - 230107_barcode.tsv\", sep='\\t')\n",
    "#Read fasta file\n",
    "for f in os.scandir(\"./data/2_Singlebar_3/\"):\n",
    "    if f.is_file() and f.name.endswith(\".fas\"):\n",
    "        sample_id = f.name[:-4]\n",
    "        try:\n",
    "            F = df[df['SampleID'].astype(str)==sample_id]['FwPrimer'].values[0]\n",
    "            R = df[df['SampleID'].astype(str)==sample_id]['RvPrimer'].values[0]\n",
    "        except IndexError:\n",
    "            print(f\"Sample {sample_id} not found in the barcode file, skipping\")\n",
    "            continue\n",
    "        with open(f.path) as handle:\n",
    "            with open(f\"./tmp/{f.name}\", \"w\") as output:\n",
    "                for record in dumb._fasta_reader(handle):\n",
    "                    #Check if the sequence is in the right orientation\n",
    "                    aln_f = edlib.align(F.upper(), record['seq'].upper()[:100], mode=\"HW\", task=\"locations\")\n",
    "                    aln_r = edlib.align(R.upper(), record['seq'].upper()[:100], mode=\"HW\", task=\"locations\")\n",
    "                    if aln_f['editDistance'] > aln_r['editDistance']:\n",
    "                        record['seq'] = dumb._reverse_complement(record['seq'])\n",
    "                    output.write(f\">{record['title']}\\n{record['seq']}\\n\")\n",
    "\n",
    "#Output: sequences with the right orientation"
   ]
  },
  {
   "cell_type": "code",
   "execution_count": 28,
   "metadata": {},
   "outputs": [
    {
     "data": {
      "text/html": [
       "<div>\n",
       "<style scoped>\n",
       "    .dataframe tbody tr th:only-of-type {\n",
       "        vertical-align: middle;\n",
       "    }\n",
       "\n",
       "    .dataframe tbody tr th {\n",
       "        vertical-align: top;\n",
       "    }\n",
       "\n",
       "    .dataframe thead th {\n",
       "        text-align: right;\n",
       "    }\n",
       "</style>\n",
       "<table border=\"1\" class=\"dataframe\">\n",
       "  <thead>\n",
       "    <tr style=\"text-align: right;\">\n",
       "      <th></th>\n",
       "      <th>SampleID</th>\n",
       "      <th>FwIndex</th>\n",
       "      <th>FwPrimer</th>\n",
       "      <th>HEAD</th>\n",
       "      <th>RvAnchor</th>\n",
       "      <th>RvIndex</th>\n",
       "      <th>RvPrimer</th>\n",
       "    </tr>\n",
       "  </thead>\n",
       "  <tbody>\n",
       "    <tr>\n",
       "      <th>0</th>\n",
       "      <td>2131</td>\n",
       "      <td>cacatcaagaagttgccaat</td>\n",
       "      <td>tYtggtgYagYgattgga</td>\n",
       "      <td>GCTATGCGCGAGCTGC</td>\n",
       "      <td>GCAGCTCGCGCATAGC</td>\n",
       "      <td>cacatcaagaagttgccaat</td>\n",
       "      <td>GAGATGGARCARCAGGT</td>\n",
       "    </tr>\n",
       "    <tr>\n",
       "      <th>1</th>\n",
       "      <td>2109</td>\n",
       "      <td>agttcgttaggcggctgatt</td>\n",
       "      <td>agagtttgatymtggctcag</td>\n",
       "      <td>GCTATGCGCGAGCTGC</td>\n",
       "      <td>GCAGCTCGCGCATAGC</td>\n",
       "      <td>agttcgttaggcggctgatt</td>\n",
       "      <td>tacggytaccttgttacgactt</td>\n",
       "    </tr>\n",
       "    <tr>\n",
       "      <th>2</th>\n",
       "      <td>2110</td>\n",
       "      <td>aactcgatgattaccgatcc</td>\n",
       "      <td>atgtcaccacaaacagagactaaagc</td>\n",
       "      <td>GCTATGCGCGAGCTGC</td>\n",
       "      <td>GCAGCTCGCGCATAGC</td>\n",
       "      <td>aactcgatgattaccgatcc</td>\n",
       "      <td>aggggacgaccatacttgttca</td>\n",
       "    </tr>\n",
       "    <tr>\n",
       "      <th>3</th>\n",
       "      <td>2111</td>\n",
       "      <td>tcgtgttacaagacacgatc</td>\n",
       "      <td>atgcgatacttggtgtgaat</td>\n",
       "      <td>GCTATGCGCGAGCTGC</td>\n",
       "      <td>GCAGCTCGCGCATAGC</td>\n",
       "      <td>tcgtgttacaagacacgatc</td>\n",
       "      <td>cccghytgayytgrggtcdc</td>\n",
       "    </tr>\n",
       "    <tr>\n",
       "      <th>4</th>\n",
       "      <td>2113</td>\n",
       "      <td>cgtatgccaatccaactgtt</td>\n",
       "      <td>agagtttgatymtggctcag</td>\n",
       "      <td>GCTATGCGCGAGCTGC</td>\n",
       "      <td>GCAGCTCGCGCATAGC</td>\n",
       "      <td>cgtatgccaatccaactgtt</td>\n",
       "      <td>tacggytaccttgttacgactt</td>\n",
       "    </tr>\n",
       "    <tr>\n",
       "      <th>...</th>\n",
       "      <td>...</td>\n",
       "      <td>...</td>\n",
       "      <td>...</td>\n",
       "      <td>...</td>\n",
       "      <td>...</td>\n",
       "      <td>...</td>\n",
       "      <td>...</td>\n",
       "    </tr>\n",
       "    <tr>\n",
       "      <th>82</th>\n",
       "      <td>2515</td>\n",
       "      <td>tagagtctctgctgcagtct</td>\n",
       "      <td>cctngttgatyctgccagt</td>\n",
       "      <td>GCTATGCGCGAGCTGC</td>\n",
       "      <td>GCAGCTCGCGCATAGC</td>\n",
       "      <td>tagagtctctgctgcagtct</td>\n",
       "      <td>tcctgagggaaacttcg</td>\n",
       "    </tr>\n",
       "    <tr>\n",
       "      <th>83</th>\n",
       "      <td>2520</td>\n",
       "      <td>ggctgtggatatcgagtgca</td>\n",
       "      <td>gtcgtygtyatygghcaygt</td>\n",
       "      <td>CGCGTA</td>\n",
       "      <td>TACGCG</td>\n",
       "      <td>ggctgtggatatcgagtgca</td>\n",
       "      <td>atgacaccracrgcracrgtytg</td>\n",
       "    </tr>\n",
       "    <tr>\n",
       "      <th>84</th>\n",
       "      <td>2521</td>\n",
       "      <td>gatatcggacgcttgtcagc</td>\n",
       "      <td>gtcgtygtyatygghcaygt</td>\n",
       "      <td>ATGTACGCC</td>\n",
       "      <td>GGCGTACAT</td>\n",
       "      <td>gatatcggacgcttgtcagc</td>\n",
       "      <td>atgacaccracrgcracrgtytg</td>\n",
       "    </tr>\n",
       "    <tr>\n",
       "      <th>85</th>\n",
       "      <td>2522</td>\n",
       "      <td>gttcgaagcggagaggtatg</td>\n",
       "      <td>gtcgtygtyatygghcaygt</td>\n",
       "      <td>GACCGAGTAACGC</td>\n",
       "      <td>GCGTTACTCGGTC</td>\n",
       "      <td>gttcgaagcggagaggtatg</td>\n",
       "      <td>atgacaccracrgcracrgtytg</td>\n",
       "    </tr>\n",
       "    <tr>\n",
       "      <th>86</th>\n",
       "      <td>2523</td>\n",
       "      <td>cgttcgctgtggtagaacaa</td>\n",
       "      <td>gtcgtygtyatygghcaygt</td>\n",
       "      <td>GCTATGCGCGAGCTGC</td>\n",
       "      <td>GCAGCTCGCGCATAGC</td>\n",
       "      <td>cgttcgctgtggtagaacaa</td>\n",
       "      <td>atgacaccracrgcracrgtytg</td>\n",
       "    </tr>\n",
       "  </tbody>\n",
       "</table>\n",
       "<p>87 rows × 7 columns</p>\n",
       "</div>"
      ],
      "text/plain": [
       "    SampleID               FwIndex                    FwPrimer   \n",
       "0       2131  cacatcaagaagttgccaat          tYtggtgYagYgattgga  \\\n",
       "1       2109  agttcgttaggcggctgatt        agagtttgatymtggctcag   \n",
       "2       2110  aactcgatgattaccgatcc  atgtcaccacaaacagagactaaagc   \n",
       "3       2111  tcgtgttacaagacacgatc        atgcgatacttggtgtgaat   \n",
       "4       2113  cgtatgccaatccaactgtt        agagtttgatymtggctcag   \n",
       "..       ...                   ...                         ...   \n",
       "82      2515  tagagtctctgctgcagtct         cctngttgatyctgccagt   \n",
       "83      2520  ggctgtggatatcgagtgca        gtcgtygtyatygghcaygt   \n",
       "84      2521  gatatcggacgcttgtcagc        gtcgtygtyatygghcaygt   \n",
       "85      2522  gttcgaagcggagaggtatg        gtcgtygtyatygghcaygt   \n",
       "86      2523  cgttcgctgtggtagaacaa        gtcgtygtyatygghcaygt   \n",
       "\n",
       "                HEAD          RvAnchor               RvIndex   \n",
       "0   GCTATGCGCGAGCTGC  GCAGCTCGCGCATAGC  cacatcaagaagttgccaat  \\\n",
       "1   GCTATGCGCGAGCTGC  GCAGCTCGCGCATAGC  agttcgttaggcggctgatt   \n",
       "2   GCTATGCGCGAGCTGC  GCAGCTCGCGCATAGC  aactcgatgattaccgatcc   \n",
       "3   GCTATGCGCGAGCTGC  GCAGCTCGCGCATAGC  tcgtgttacaagacacgatc   \n",
       "4   GCTATGCGCGAGCTGC  GCAGCTCGCGCATAGC  cgtatgccaatccaactgtt   \n",
       "..               ...               ...                   ...   \n",
       "82  GCTATGCGCGAGCTGC  GCAGCTCGCGCATAGC  tagagtctctgctgcagtct   \n",
       "83            CGCGTA            TACGCG  ggctgtggatatcgagtgca   \n",
       "84         ATGTACGCC         GGCGTACAT  gatatcggacgcttgtcagc   \n",
       "85     GACCGAGTAACGC     GCGTTACTCGGTC  gttcgaagcggagaggtatg   \n",
       "86  GCTATGCGCGAGCTGC  GCAGCTCGCGCATAGC  cgttcgctgtggtagaacaa   \n",
       "\n",
       "                   RvPrimer  \n",
       "0         GAGATGGARCARCAGGT  \n",
       "1    tacggytaccttgttacgactt  \n",
       "2    aggggacgaccatacttgttca  \n",
       "3      cccghytgayytgrggtcdc  \n",
       "4    tacggytaccttgttacgactt  \n",
       "..                      ...  \n",
       "82        tcctgagggaaacttcg  \n",
       "83  atgacaccracrgcracrgtytg  \n",
       "84  atgacaccracrgcracrgtytg  \n",
       "85  atgacaccracrgcracrgtytg  \n",
       "86  atgacaccracrgcracrgtytg  \n",
       "\n",
       "[87 rows x 7 columns]"
      ]
     },
     "execution_count": 28,
     "metadata": {},
     "output_type": "execute_result"
    }
   ],
   "source": [
    "df"
   ]
  },
  {
   "cell_type": "code",
   "execution_count": 21,
   "metadata": {},
   "outputs": [
    {
     "data": {
      "text/plain": [
       "{'editDistance': 5,\n",
       " 'alphabetLength': 4,\n",
       " 'locations': [(64, 88)],\n",
       " 'cigar': None}"
      ]
     },
     "execution_count": 21,
     "metadata": {},
     "output_type": "execute_result"
    }
   ],
   "source": [
    "aln_f\n"
   ]
  },
  {
   "cell_type": "code",
   "execution_count": 22,
   "metadata": {},
   "outputs": [
    {
     "data": {
      "text/plain": [
       "{'editDistance': 9,\n",
       " 'alphabetLength': 4,\n",
       " 'locations': [(366, 384), (366, 385)],\n",
       " 'cigar': None}"
      ]
     },
     "execution_count": 22,
     "metadata": {},
     "output_type": "execute_result"
    }
   ],
   "source": [
    "aln_r"
   ]
  },
  {
   "cell_type": "code",
   "execution_count": 7,
   "metadata": {},
   "outputs": [
    {
     "data": {
      "text/plain": [
       "'atgtcaccacaaacagagactaaagc'"
      ]
     },
     "execution_count": 7,
     "metadata": {},
     "output_type": "execute_result"
    }
   ],
   "source": [
    "df[df['SampleID'].astype(str)==sample_id]['FwPrimer'].values[0]"
   ]
  },
  {
   "cell_type": "code",
   "execution_count": null,
   "metadata": {},
   "outputs": [],
   "source": []
  }
 ],
 "metadata": {
  "kernelspec": {
   "display_name": ".venv",
   "language": "python",
   "name": "python3"
  },
  "language_info": {
   "codemirror_mode": {
    "name": "ipython",
    "version": 3
   },
   "file_extension": ".py",
   "mimetype": "text/x-python",
   "name": "python",
   "nbconvert_exporter": "python",
   "pygments_lexer": "ipython3",
   "version": "3.10.6"
  },
  "orig_nbformat": 4
 },
 "nbformat": 4,
 "nbformat_minor": 2
}
