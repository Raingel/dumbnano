{
 "cells": [
  {
   "cell_type": "code",
   "execution_count": 23,
   "metadata": {},
   "outputs": [],
   "source": [
    "from nanoact import nanoact\n",
    "#Reload the module\n",
    "import importlib\n",
    "importlib.reload(nanoact)\n",
    "dumb = nanoact.NanoAct()"
   ]
  },
  {
   "cell_type": "code",
   "execution_count": 16,
   "metadata": {},
   "outputs": [
    {
     "name": "stdout",
     "output_type": "stream",
     "text": [
      "BARCODE_INDEX_FILE loaded\n",
      "646/2500 (25.84%) reads were demultiplexed successfully\n"
     ]
    },
    {
     "data": {
      "text/plain": [
       "'./data/2_singlebar/'"
      ]
     },
     "execution_count": 16,
     "metadata": {},
     "output_type": "execute_result"
    }
   ],
   "source": [
    "dumb.singlebar(src=\"./data/1_nanofilt/10000.fastq\",\n",
    "               des=\"./data/2_singlebar/\",\n",
    "               BARCODE_INDEX_FILE=\"./data/1_nanofilt/2023000003_barcode.tsv\", \n",
    "               mismatch_ratio_f = 0.15,\n",
    "               mismatch_ratio_r = 0.15, \n",
    "               expected_length_variation = 2, \n",
    "               search_range=150)"
   ]
  },
  {
   "cell_type": "code",
   "execution_count": 17,
   "metadata": {},
   "outputs": [
    {
     "name": "stdout",
     "output_type": "stream",
     "text": [
      "2201.fastq processing\n",
      "2440.fastq processing\n",
      "2522.fastq processing\n",
      "2553.fastq processing\n",
      "2432.fastq processing\n",
      "Inconsistency found 00fe6389-1b7b-462b-a1dc-f9311fe064d1 RG:Z:3603f0dbd5b5d0e7be33599570e02aa2e6b091fe_dna_r9.4.1_e8_sup@v3.3\tqs:i:11\tns:i:2938\tts:i:530\tmx:i:3\tch:i:396\tst:Z:2023-03-29T06:23:04.140+00:00\tdu:f:0.7345\trn:i:5758\tf5:Z:FAV12553_df48d01a_3603f0db_11.fast5\tsm:f:89.84499870300293\tsd:f:14.536970138549805\tsv:Z:quantile\n",
      "2381.fastq processing\n",
      "2288.fastq processing\n",
      "2513.fastq processing\n",
      "2366.fastq processing\n",
      "Inconsistency found 7125b294-0545-4b25-b790-9769e4482d9c RG:Z:3603f0dbd5b5d0e7be33599570e02aa2e6b091fe_dna_r9.4.1_e8_sup@v3.3\tqs:i:9\tns:i:2912\tts:i:810\tmx:i:4\tch:i:368\tst:Z:2023-03-29T06:21:48.646+00:00\tdu:f:0.728\trn:i:7048\tf5:Z:FAV12553_df48d01a_3603f0db_11.fast5\tsm:f:88.71841278076172\tsd:f:12.000315704345704\tsv:Z:quantile\n",
      "2382.fastq processing\n",
      "2279.fastq processing\n",
      "2523.fastq processing\n",
      "Inconsistency found 15f1817a-8e4b-44ff-9a07-df4269693e3b RG:Z:3603f0dbd5b5d0e7be33599570e02aa2e6b091fe_dna_r9.4.1_e8_sup@v3.3\tqs:i:11\tns:i:2760\tts:i:50\tmx:i:1\tch:i:242\tst:Z:2023-03-29T06:22:28.066+00:00\tdu:f:0.69\trn:i:7279\tf5:Z:FAV12553_df48d01a_3603f0db_11.fast5\tsm:f:86.46524871826172\tsd:f:15.122355041503907\tsv:Z:quantile\n",
      "2367.fastq processing\n",
      "Inconsistency found 7fec50a1-9473-4a97-ad58-af2901bb3b84 RG:Z:3603f0dbd5b5d0e7be33599570e02aa2e6b091fe_dna_r9.4.1_e8_sup@v3.3\tqs:i:10\tns:i:3113\tts:i:650\tmx:i:1\tch:i:357\tst:Z:2023-03-29T06:21:14.984+00:00\tdu:f:0.77825\trn:i:1697\tf5:Z:FAV12553_df48d01a_3603f0db_11.fast5\tsm:f:98.66989906311035\tsd:f:15.707731857299805\tsv:Z:quantile\n",
      "2368.fastq processing\n",
      "2352.fastq processing\n",
      "2131.fastq processing\n",
      "Inconsistency found 86fa8634-34c6-48eb-9839-e9e3e3e2925f RG:Z:3603f0dbd5b5d0e7be33599570e02aa2e6b091fe_dna_r9.4.1_e8_sup@v3.3\tqs:i:12\tns:i:2548\tts:i:290\tmx:i:2\tch:i:16\tst:Z:2023-03-29T06:16:34.114+00:00\tdu:f:0.637\trn:i:4170\tf5:Z:FAV12553_df48d01a_3603f0db_11.fast5\tsm:f:89.46947135925294\tsd:f:13.561335372924805\tsv:Z:quantile\n",
      "2287.fastq processing\n",
      "2380.fastq processing\n",
      "Inconsistency found 8a22bdf3-25df-4a8b-9fc8-f8a68fa90ad5 RG:Z:3603f0dbd5b5d0e7be33599570e02aa2e6b091fe_dna_r9.4.1_e8_sup@v3.3\tqs:i:11\tns:i:2342\tts:i:90\tmx:i:3\tch:i:302\tst:Z:2023-03-29T06:21:04.674+00:00\tdu:f:0.5855\trn:i:5793\tf5:Z:FAV12553_df48d01a_3603f0db_11.fast5\tsm:f:82.8977350616455\tsd:f:15.512604904174806\tsv:Z:quantile\n",
      "Inconsistency found a054106b-66c8-429b-b9eb-0e8b822442e0 RG:Z:3603f0dbd5b5d0e7be33599570e02aa2e6b091fe_dna_r9.4.1_e8_sup@v3.3\tqs:i:8\tns:i:2463\tts:i:250\tmx:i:4\tch:i:356\tst:Z:2023-03-29T06:20:39.870+00:00\tdu:f:0.61575\trn:i:7678\tf5:Z:FAV12553_df48d01a_3603f0db_11.fast5\tsm:f:89.37558563232422\tsd:f:17.171188049316406\tsv:Z:quantile\n",
      "2355.fastq processing\n",
      "2351.fastq processing\n",
      "2281.fastq processing\n",
      "2521.fastq processing\n",
      "2353.fastq processing\n",
      "2370.fastq processing\n",
      "2110.fastq processing\n",
      "2371.fastq processing\n",
      "2275.fastq processing\n",
      "2514.fastq processing\n",
      "2396.fastq processing\n",
      "2143.fastq processing\n",
      "2372.fastq processing\n",
      "2283.fastq processing\n",
      "2395.fastq processing\n",
      "2354.fastq processing\n",
      "2520.fastq processing\n",
      "2327.fastq processing\n",
      "2195.fastq processing\n",
      "2274.fastq processing\n",
      "2377.fastq processing\n",
      "2111.fastq processing\n",
      "2190.fastq processing\n",
      "2375.fastq processing\n",
      "2180.fastq processing\n",
      "2378.fastq processing\n",
      "Inconsistency found 1c7cf9a3-e596-43c7-98c8-4cbbd043e9b4 RG:Z:3603f0dbd5b5d0e7be33599570e02aa2e6b091fe_dna_r9.4.1_e8_sup@v3.3\tqs:i:12\tns:i:2763\tts:i:570\tmx:i:1\tch:i:438\tst:Z:2023-03-29T06:20:18.259+00:00\tdu:f:0.69075\trn:i:6431\tf5:Z:FAV12553_df48d01a_3603f0db_11.fast5\tsm:f:91.06546257019043\tsd:f:13.073517990112306\tsv:Z:quantile\n",
      "2277.fastq processing\n",
      "2512.fastq processing\n",
      "2383.fastq processing\n",
      "2394.fastq processing\n",
      "2548.fastq processing\n",
      "2374.fastq processing\n",
      "Inconsistency found 06975d66-e3bf-4599-a26b-6d9c6fbf9226 RG:Z:3603f0dbd5b5d0e7be33599570e02aa2e6b091fe_dna_r9.4.1_e8_sup@v3.3\tqs:i:7\tns:i:2751\tts:i:490\tmx:i:1\tch:i:103\tst:Z:2023-03-29T06:21:02.801+00:00\tdu:f:0.68775\trn:i:7250\tf5:Z:FAV12553_df48d01a_3603f0db_11.fast5\tsm:f:85.244780960083\tsd:f:13.854025802612306\tsv:Z:quantile\n",
      "2115.fastq processing\n",
      "2286.fastq processing\n",
      "2384.fastq processing\n",
      "2379.fastq processing\n",
      "2280.fastq processing\n",
      "2358.fastq processing\n",
      "2350.fastq processing\n",
      "2191.fastq processing\n",
      "2362.fastq processing\n",
      "2196.fastq processing\n",
      "2385.fastq processing\n",
      "2363.fastq processing\n",
      "2364.fastq processing\n",
      "2276.fastq processing\n",
      "2293.fastq processing\n",
      "2326.fastq processing\n",
      "2290.fastq processing\n",
      "2387.fastq processing\n",
      "2194.fastq processing\n",
      "2392.fastq processing\n",
      "2388.fastq processing\n",
      "Inconsistency found 6b3afc2b-f951-45a9-b5e8-b27b190c4c22 RG:Z:3603f0dbd5b5d0e7be33599570e02aa2e6b091fe_dna_r9.4.1_e8_sup@v3.3\tqs:i:13\tns:i:3143\tts:i:370\tmx:i:3\tch:i:477\tst:Z:2023-03-29T06:19:56.808+00:00\tdu:f:0.78575\trn:i:5646\tf5:Z:FAV12553_df48d01a_3603f0db_11.fast5\tsm:f:83.55490791320801\tsd:f:13.658898849487306\tsv:Z:quantile\n",
      "2369.fastq processing\n",
      "Inconsistency found 92e39284-0310-4e18-aeb0-a903471151ec RG:Z:3603f0dbd5b5d0e7be33599570e02aa2e6b091fe_dna_r9.4.1_e8_sup@v3.3\tqs:i:12\tns:i:2674\tts:i:130\tmx:i:1\tch:i:164\tst:Z:2023-03-29T06:20:22.826+00:00\tdu:f:0.6685\trn:i:7801\tf5:Z:FAV12553_df48d01a_3603f0db_11.fast5\tsm:f:100.17200843811035\tsd:f:15.902858810424805\tsv:Z:quantile\n",
      "2515.fastq processing\n",
      "2376.fastq processing\n",
      "2359.fastq processing\n",
      "Inconsistency found 2cd5cd3a-fa8a-4847-b37d-a2a1563bf409 RG:Z:3603f0dbd5b5d0e7be33599570e02aa2e6b091fe_dna_r9.4.1_e8_sup@v3.3\tqs:i:10\tns:i:3745\tts:i:490\tmx:i:4\tch:i:324\tst:Z:2023-03-29T06:23:23.514+00:00\tdu:f:0.93625\trn:i:3873\tf5:Z:FAV12553_df48d01a_3603f0db_11.fast5\tsm:f:89.56335319519043\tsd:f:15.415041427612305\tsv:Z:quantile\n",
      "Inconsistency found 35d397bc-2f1f-47f0-abdf-c63b10f9092b RG:Z:3603f0dbd5b5d0e7be33599570e02aa2e6b091fe_dna_r9.4.1_e8_sup@v3.3\tqs:i:10\tns:i:2802\tts:i:250\tmx:i:4\tch:i:353\tst:Z:2023-03-29T06:19:46.300+00:00\tdu:f:0.7005\trn:i:13359\tf5:Z:FAV12553_df48d01a_3603f0db_11.fast5\tsm:f:102.33129455566406\tsd:f:16.390680236816408\tsv:Z:quantile\n",
      "Inconsistency found 3fa85736-df3d-490a-848b-79dd02e05868 RG:Z:3603f0dbd5b5d0e7be33599570e02aa2e6b091fe_dna_r9.4.1_e8_sup@v3.3\tqs:i:12\tns:i:2676\tts:i:210\tmx:i:1\tch:i:262\tst:Z:2023-03-29T06:23:27.772+00:00\tdu:f:0.669\trn:i:7761\tf5:Z:FAV12553_df48d01a_3603f0db_11.fast5\tsm:f:92.84921745300294\tsd:f:15.122350997924805\tsv:Z:quantile\n",
      "2349.fastq processing\n",
      "2373.fastq processing\n",
      "2282.fastq processing\n",
      "2109.fastq processing\n",
      "2399.fastq processing\n",
      "2357.fastq processing\n",
      "2292.fastq processing\n",
      "2289.fastq processing\n",
      "2192.fastq processing\n",
      "2356.fastq processing\n",
      "2113.fastq processing\n",
      "2391.fastq processing\n"
     ]
    }
   ],
   "source": [
    "orientation = dumb.orientation(src='./data/2_singlebar/',\n",
    "                               des='./data/3_orientation/',\n",
    "                                input_format = \"fastq\",\n",
    "                                output_format = \"both\",\n",
    "                               BARCODE_INDEX_FILE=\"./data/1_nanofilt/2023000003_barcode.tsv\",\n",
    "                               search_region=200,\n",
    "                                FwPrimer = \"FwPrimer\",\n",
    "                                RvPrimer = \"RvPrimer\",\n",
    "                                )"
   ]
  },
  {
   "cell_type": "code",
   "execution_count": 24,
   "metadata": {},
   "outputs": [
    {
     "name": "stdout",
     "output_type": "stream",
     "text": [
      "Notice: mode is set to 'case', arguments other than src, des, fw_offset, rv_offset will be ignored\n",
      "646 reads processed\r"
     ]
    }
   ],
   "source": [
    "dumb.trim_reads(src=\"./data/3_orientation/\", \n",
    "                des=\"./data/4_trimmed_case/\",\n",
    "                mode=\"case\",\n",
    "                BARCODE_INDEX_FILE = \"\",\n",
    "                fw_col = \"FwPrimer\",rv_col = \"RvPrimer\",\n",
    "                fw_offset = 0, rv_offset = 0,\n",
    "                mismatch_ratio_f = 0.15,mismatch_ratio_r = 0.15,\n",
    "                discard_no_match = False,\n",
    "                check_both_directions = True,\n",
    "                reverse_complement_rv = True,\n",
    "                )"
   ]
  },
  {
   "cell_type": "code",
   "execution_count": null,
   "metadata": {},
   "outputs": [],
   "source": []
  }
 ],
 "metadata": {
  "kernelspec": {
   "display_name": ".venv",
   "language": "python",
   "name": "python3"
  },
  "language_info": {
   "codemirror_mode": {
    "name": "ipython",
    "version": 3
   },
   "file_extension": ".py",
   "mimetype": "text/x-python",
   "name": "python",
   "nbconvert_exporter": "python",
   "pygments_lexer": "ipython3",
   "version": "3.10.6"
  },
  "orig_nbformat": 4
 },
 "nbformat": 4,
 "nbformat_minor": 2
}
